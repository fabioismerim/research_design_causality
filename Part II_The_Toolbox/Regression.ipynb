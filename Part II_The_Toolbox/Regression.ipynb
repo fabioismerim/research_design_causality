{
 "cells": [
  {
   "cell_type": "code",
   "execution_count": 1,
   "id": "2056a897",
   "metadata": {},
   "outputs": [],
   "source": [
    "#!pip install statsmodels\n",
    "#!pip install stargazer"
   ]
  },
  {
   "cell_type": "code",
   "execution_count": 2,
   "id": "36db88a2",
   "metadata": {},
   "outputs": [],
   "source": [
    "import pandas as pd\n",
    "import statsmodels.formula.api as sm\n",
    "from stargazer.stargazer import Stargazer\n",
    "from causaldata import restaurant_inspections"
   ]
  },
  {
   "cell_type": "code",
   "execution_count": 3,
   "id": "45a42d11",
   "metadata": {},
   "outputs": [],
   "source": [
    "res = restaurant_inspections.load_pandas().data"
   ]
  },
  {
   "cell_type": "code",
   "execution_count": 4,
   "id": "db21b2c0",
   "metadata": {},
   "outputs": [
    {
     "data": {
      "text/html": [
       "<div>\n",
       "<style scoped>\n",
       "    .dataframe tbody tr th:only-of-type {\n",
       "        vertical-align: middle;\n",
       "    }\n",
       "\n",
       "    .dataframe tbody tr th {\n",
       "        vertical-align: top;\n",
       "    }\n",
       "\n",
       "    .dataframe thead th {\n",
       "        text-align: right;\n",
       "    }\n",
       "</style>\n",
       "<table border=\"1\" class=\"dataframe\">\n",
       "  <thead>\n",
       "    <tr style=\"text-align: right;\">\n",
       "      <th></th>\n",
       "      <th>business_name</th>\n",
       "      <th>inspection_score</th>\n",
       "      <th>Year</th>\n",
       "      <th>NumberofLocations</th>\n",
       "      <th>Weekend</th>\n",
       "    </tr>\n",
       "  </thead>\n",
       "  <tbody>\n",
       "    <tr>\n",
       "      <th>0</th>\n",
       "      <td>MCGINLEYS PUB</td>\n",
       "      <td>94</td>\n",
       "      <td>2017</td>\n",
       "      <td>9</td>\n",
       "      <td>False</td>\n",
       "    </tr>\n",
       "    <tr>\n",
       "      <th>1</th>\n",
       "      <td>VILLAGE INN #1</td>\n",
       "      <td>86</td>\n",
       "      <td>2015</td>\n",
       "      <td>66</td>\n",
       "      <td>False</td>\n",
       "    </tr>\n",
       "    <tr>\n",
       "      <th>2</th>\n",
       "      <td>RONNIE SUSHI 2</td>\n",
       "      <td>80</td>\n",
       "      <td>2016</td>\n",
       "      <td>79</td>\n",
       "      <td>False</td>\n",
       "    </tr>\n",
       "    <tr>\n",
       "      <th>3</th>\n",
       "      <td>FRED MEYER - RETAIL FISH</td>\n",
       "      <td>96</td>\n",
       "      <td>2003</td>\n",
       "      <td>86</td>\n",
       "      <td>False</td>\n",
       "    </tr>\n",
       "    <tr>\n",
       "      <th>4</th>\n",
       "      <td>PHO GRILL</td>\n",
       "      <td>83</td>\n",
       "      <td>2017</td>\n",
       "      <td>53</td>\n",
       "      <td>False</td>\n",
       "    </tr>\n",
       "  </tbody>\n",
       "</table>\n",
       "</div>"
      ],
      "text/plain": [
       "              business_name  inspection_score  Year  NumberofLocations  \\\n",
       "0             MCGINLEYS PUB                94  2017                  9   \n",
       "1            VILLAGE INN #1                86  2015                 66   \n",
       "2            RONNIE SUSHI 2                80  2016                 79   \n",
       "3  FRED MEYER - RETAIL FISH                96  2003                 86   \n",
       "4                 PHO GRILL                83  2017                 53   \n",
       "\n",
       "   Weekend  \n",
       "0    False  \n",
       "1    False  \n",
       "2    False  \n",
       "3    False  \n",
       "4    False  "
      ]
     },
     "execution_count": 4,
     "metadata": {},
     "output_type": "execute_result"
    }
   ],
   "source": [
    "res.head()"
   ]
  },
  {
   "cell_type": "code",
   "execution_count": 5,
   "id": "8477011a",
   "metadata": {},
   "outputs": [
    {
     "name": "stdout",
     "output_type": "stream",
     "text": [
      "The restaurant_inspections data contains data on restaurant health inspections performed in Anchorage, Alaska. This data set is used in the Regression chapter of The Effect.\n"
     ]
    }
   ],
   "source": [
    "print(restaurant_inspections.DESCRLONG)"
   ]
  },
  {
   "cell_type": "code",
   "execution_count": 6,
   "id": "5afd4952",
   "metadata": {},
   "outputs": [
    {
     "name": "stdout",
     "output_type": "stream",
     "text": [
      "::\n",
      "    Number of observations - 27178\n",
      "    Number of variables - 5\n",
      "    Variables name definitions::\n",
      "            business_name - Name of restaurant/chain\n",
      "            inspection_score - Health Inspection Score\n",
      "            Year - Year of inspection\n",
      "            NumberofLocations - Number of locations in restaurant chain\n",
      "            Weekend - Was the inspection performed on a weekend?\n",
      "\n"
     ]
    }
   ],
   "source": [
    "print(restaurant_inspections.NOTE)"
   ]
  },
  {
   "cell_type": "markdown",
   "id": "f5c55a62",
   "metadata": {},
   "source": [
    "### Models"
   ]
  },
  {
   "cell_type": "code",
   "execution_count": 7,
   "id": "fd45cd62",
   "metadata": {},
   "outputs": [],
   "source": [
    "#first with one regressor\n",
    "\n",
    "m1 = sm.ols(formula = 'inspection_score ~ NumberofLocations',\n",
    "            data = res).fit()"
   ]
  },
  {
   "cell_type": "code",
   "execution_count": 10,
   "id": "cb243bfc",
   "metadata": {},
   "outputs": [],
   "source": [
    "#second add year as control\n",
    "\n",
    "m2 = sm.ols(formula = 'inspection_score ~ NumberofLocations + Year',\n",
    "            data = res).fit()"
   ]
  },
  {
   "cell_type": "code",
   "execution_count": 14,
   "id": "071ee662",
   "metadata": {},
   "outputs": [
    {
     "data": {
      "text/plain": [
       "<function TextIOWrapper.close()>"
      ]
     },
     "execution_count": 14,
     "metadata": {},
     "output_type": "execute_result"
    }
   ],
   "source": [
    "#file to write results\n",
    "\n",
    "f = open('regression_table', 'w')\n",
    "\n",
    "regtable = Stargazer([m1,m2])\n",
    "f.write(regtable.render_html())\n",
    "f.close"
   ]
  },
  {
   "cell_type": "code",
   "execution_count": 24,
   "id": "99bee506",
   "metadata": {},
   "outputs": [
    {
     "data": {
      "text/html": [
       "<table style=\"text-align:center\"><tr><td colspan=\"3\" style=\"border-bottom: 1px solid black\"></td></tr><tr><td style=\"text-align:left\"></td><td colspan=\"2\"><em>Dependent variable:inspection_score</em></td></tr><tr><td style=\"text-align:left\"></td><tr><td></td><td colspan=\"1\">Model 1</td><td colspan=\"1\">Model 2</td></tr><tr><td style=\"text-align:left\"></td><td>(1)</td><td>(2)</td></tr><tr><td colspan=\"3\" style=\"border-bottom: 1px solid black\"></td></tr><tr><td style=\"text-align:left\">Intercept</td><td>94.866<sup>***</sup></td><td>225.333<sup>***</sup></td></tr><tr><td style=\"text-align:left\"></td><td>(0.046)</td><td>(12.411)</td></tr><tr><td style=\"text-align:left\">NumberofLocations</td><td>-0.019<sup>***</sup></td><td>-0.019<sup>***</sup></td></tr><tr><td style=\"text-align:left\"></td><td>(0.000)</td><td>(0.000)</td></tr><tr><td style=\"text-align:left\">Year</td><td></td><td>-0.065<sup>***</sup></td></tr><tr><td style=\"text-align:left\"></td><td></td><td>(0.006)</td></tr><td colspan=\"3\" style=\"border-bottom: 1px solid black\"></td></tr><tr><td style=\"text-align: left\">Observations</td><td>27,178</td><td>27,178</td></tr><tr><td style=\"text-align: left\">R<sup>2</sup></td><td>0.065</td><td>0.068</td></tr><tr><td style=\"text-align: left\">Adjusted R<sup>2</sup></td><td>0.065</td><td>0.068</td></tr><tr><td style=\"text-align: left\">Residual Std. Error</td><td>6.052 (df=27176)</td><td>6.039 (df=27175)</td></tr><tr><td style=\"text-align: left\">F Statistic</td><td>1876.705<sup>***</sup> (df=1; 27176)</td><td>997.386<sup>***</sup> (df=2; 27175)</td></tr><tr><td colspan=\"3\" style=\"border-bottom: 1px solid black\"></td></tr><tr><td style=\"text-align: left\">Note:</td>\n",
       " <td colspan=\"2\" style=\"text-align: right\">\n",
       "  <sup>*</sup>p&lt;0.1;\n",
       "  <sup>**</sup>p&lt;0.05;\n",
       "  <sup>***</sup>p&lt;0.01\n",
       " </td></tr></table>"
      ],
      "text/plain": [
       "<stargazer.stargazer.Stargazer at 0x1c67d974f10>"
      ]
     },
     "execution_count": 24,
     "metadata": {},
     "output_type": "execute_result"
    }
   ],
   "source": [
    "regtable.custom_columns(['Model 1', 'Model 2'], [1, 1])\n",
    "regtable"
   ]
  },
  {
   "cell_type": "code",
   "execution_count": null,
   "id": "6020a160",
   "metadata": {},
   "outputs": [],
   "source": []
  }
 ],
 "metadata": {
  "kernelspec": {
   "display_name": "Python 3",
   "language": "python",
   "name": "python3"
  },
  "language_info": {
   "codemirror_mode": {
    "name": "ipython",
    "version": 3
   },
   "file_extension": ".py",
   "mimetype": "text/x-python",
   "name": "python",
   "nbconvert_exporter": "python",
   "pygments_lexer": "ipython3",
   "version": "3.8.8"
  }
 },
 "nbformat": 4,
 "nbformat_minor": 5
}
